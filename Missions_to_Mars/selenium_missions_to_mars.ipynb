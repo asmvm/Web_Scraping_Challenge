{
 "cells": [
  {
   "cell_type": "code",
   "execution_count": 1,
   "metadata": {},
   "outputs": [],
   "source": [
    "# Dependencies \n",
    "import selenium\n",
    "from selenium import webdriver\n",
    "# from splinter import Browser\n",
    "# from selenium import webdriver\n",
    "from bs4 import BeautifulSoup as BS\n",
    "import pandas as pd\n",
    "from pprint import pprint\n",
    "from pymongo import MongoClient"
   ]
  },
  {
   "cell_type": "code",
   "execution_count": 2,
   "metadata": {},
   "outputs": [],
   "source": [
    "## switched to selenium/gecko driver..no longer using chromedriver\n",
    "# chromedriver='C:/Users/a_mcr/chromedriver_win32/chromedriver'\n",
    "# driver = webdriver.Chrome(chromedriver)\n",
    "# driver.get(\"https://mars.nasa.gov/news/?page=0&per_page=40&order=publish_date+desc%2Ccreated_at+desc&search=&category=19%2C165%2C184%2C204&blank_scope=Latest\")"
   ]
  },
  {
   "cell_type": "code",
   "execution_count": 3,
   "metadata": {},
   "outputs": [],
   "source": [
    "# executable_path = {'executable_path': 'C:/Users/a_mcr/webdrivers/chromedriver_win32/chromedriver'}\n",
    "# browser = Browser('chrome', **executable_path, headless=False)"
   ]
  },
  {
   "cell_type": "markdown",
   "metadata": {},
   "source": [
    "### Step 1 - Scraping\n",
    "----------------------"
   ]
  },
  {
   "cell_type": "markdown",
   "metadata": {},
   "source": [
    "# NASA Mars News"
   ]
  },
  {
   "cell_type": "code",
   "execution_count": 4,
   "metadata": {},
   "outputs": [],
   "source": [
    "# URL of page to be scraped\n",
    "url = \"https://mars.nasa.gov/news/?page=0&per_page=40&order=publish_date+desc%2Ccreated_at+desc&search=&category=19%2C165%2C184%2C204&blank_scope=Latest\""
   ]
  },
  {
   "cell_type": "code",
   "execution_count": 5,
   "metadata": {},
   "outputs": [],
   "source": [
    "driver = webdriver.Firefox()\n",
    "driver.get(url)"
   ]
  },
  {
   "cell_type": "code",
   "execution_count": 6,
   "metadata": {},
   "outputs": [],
   "source": [
    "# news_title = driver.find_elements_by_class_name('content_title')\n",
    "# news_title"
   ]
  },
  {
   "cell_type": "code",
   "execution_count": 7,
   "metadata": {},
   "outputs": [],
   "source": [
    "body = driver.find_element_by_tag_name(\"body\")\n",
    "body_html = body.get_attribute(\"innerHTML\")\n",
    "# body_html\n",
    "soup = BS(body_html,'html.parser')\n",
    "# soup"
   ]
  },
  {
   "cell_type": "code",
   "execution_count": 20,
   "metadata": {},
   "outputs": [
    {
     "name": "stdout",
     "output_type": "stream",
     "text": [
      "October 27, 2020\n",
      "Title: NASA's Perseverance Rover Is Midway to Mars \n",
      "Summary: Sometimes half measures can be a good thing – especially on a journey this long. The agency's latest rover only has about 146 million miles left to reach its destination.\n"
     ]
    }
   ],
   "source": [
    "news_titles=soup.find_all('div', class_='content_title')\n",
    "news_title = news_titles[1].text\n",
    "# news_title\n",
    "\n",
    "date = soup.find('div', class_='list_date').text\n",
    "print(date)\n",
    "\n",
    "news_p=soup.find('div', class_='article_teaser_body').text\n",
    "\n",
    "print(f'Title: {news_title}')\n",
    "print(f'Summary: {news_p}')"
   ]
  },
  {
   "cell_type": "code",
   "execution_count": 51,
   "metadata": {},
   "outputs": [
    {
     "data": {
      "text/plain": [
       "'https://mars.nasa.gov//news/8785/nasas-perseverance-rover-is-midway-to-mars/'"
      ]
     },
     "execution_count": 51,
     "metadata": {},
     "output_type": "execute_result"
    }
   ],
   "source": [
    "nasa_url = \"https://mars.nasa.gov/\"\n",
    "news_title = news_titles[1].find('a')['href']\n",
    "news_title_url = nasa_url + news_title\n",
    "news_title_url"
   ]
  },
  {
   "cell_type": "code",
   "execution_count": 59,
   "metadata": {},
   "outputs": [],
   "source": [
    "driver.quit()"
   ]
  },
  {
   "cell_type": "markdown",
   "metadata": {},
   "source": [
    "# JPL Mars Space Images - Featured Image"
   ]
  },
  {
   "cell_type": "code",
   "execution_count": 53,
   "metadata": {},
   "outputs": [],
   "source": [
    "# URL of page to be scraped\n",
    "url_2 = \"https://www.jpl.nasa.gov/spaceimages/?search=&category=Mars\""
   ]
  },
  {
   "cell_type": "code",
   "execution_count": 54,
   "metadata": {},
   "outputs": [],
   "source": [
    "# create path for webdriver\n",
    "# added an implicit wait allow time for driver to fetch element\n",
    "driver = webdriver.Firefox()\n",
    "driver.implicitly_wait(10)\n",
    "driver.get(url_2)"
   ]
  },
  {
   "cell_type": "code",
   "execution_count": 55,
   "metadata": {},
   "outputs": [],
   "source": [
    "body_2 = driver.find_element_by_tag_name(\"body\")\n",
    "body_html_2 = body_2.get_attribute(\"innerHTML\")\n",
    "soup_2 = BS(body_html_2,'html.parser')\n",
    "# print(soup_2.prettify())"
   ]
  },
  {
   "cell_type": "code",
   "execution_count": 56,
   "metadata": {},
   "outputs": [],
   "source": [
    "featured_image = driver.find_element_by_id(\"full_image\")\n",
    "featured_image.click()"
   ]
  },
  {
   "cell_type": "code",
   "execution_count": 57,
   "metadata": {},
   "outputs": [],
   "source": [
    "featured_image_info = driver.find_element_by_partial_link_text(\"more info\")\n",
    "featured_image_info.click()"
   ]
  },
  {
   "cell_type": "code",
   "execution_count": 58,
   "metadata": {},
   "outputs": [
    {
     "data": {
      "text/plain": [
       "'https://www.jpl.nasa.gov/spaceimages/images/largesize/PIA19041_hires.jpg'"
      ]
     },
     "execution_count": 58,
     "metadata": {},
     "output_type": "execute_result"
    }
   ],
   "source": [
    "# pull the full image through try catch statement (to fix error in the scape flask app)\n",
    "try:\n",
    "    full_featured_image = driver.find_element_by_tag_name('img[class=\"main_image\"]').get_attribute('src')\n",
    "except AttributeError:\n",
    "    print(\"atrribute error\")\n",
    "full_featured_image    "
   ]
  },
  {
   "cell_type": "code",
   "execution_count": null,
   "metadata": {},
   "outputs": [],
   "source": [
    "# full_featured_image = driver.find_element_by_tag_name('img[class=\"main_image\"]').get_attribute('src')\n",
    "# full_featured_image"
   ]
  },
  {
   "cell_type": "code",
   "execution_count": null,
   "metadata": {},
   "outputs": [],
   "source": [
    "driver.quit()"
   ]
  },
  {
   "cell_type": "markdown",
   "metadata": {},
   "source": [
    "# Mars Facts"
   ]
  },
  {
   "cell_type": "code",
   "execution_count": null,
   "metadata": {},
   "outputs": [],
   "source": [
    "# URL of page to be scraped\n",
    "url = 'https://space-facts.com/mars/'"
   ]
  },
  {
   "cell_type": "code",
   "execution_count": null,
   "metadata": {},
   "outputs": [],
   "source": [
    "tables = pd.read_html(url)\n",
    "mars_facts = tables[0]\n",
    "# mars_facts"
   ]
  },
  {
   "cell_type": "code",
   "execution_count": null,
   "metadata": {},
   "outputs": [],
   "source": [
    "mars_facts.columns = ['Features','Data']\n",
    "# mars_facts"
   ]
  },
  {
   "cell_type": "code",
   "execution_count": null,
   "metadata": {},
   "outputs": [],
   "source": [
    "html_table = mars_facts.to_html(classes = 'table table-striped')"
   ]
  },
  {
   "cell_type": "code",
   "execution_count": null,
   "metadata": {},
   "outputs": [],
   "source": [
    "html_table"
   ]
  },
  {
   "cell_type": "code",
   "execution_count": null,
   "metadata": {},
   "outputs": [],
   "source": [
    "pwd"
   ]
  },
  {
   "cell_type": "code",
   "execution_count": null,
   "metadata": {},
   "outputs": [],
   "source": [
    "mars_facts.to_html('mars_facts.html', index=False, index_names=False)"
   ]
  },
  {
   "cell_type": "markdown",
   "metadata": {},
   "source": [
    "# Mars Hemispheres"
   ]
  },
  {
   "cell_type": "code",
   "execution_count": null,
   "metadata": {},
   "outputs": [],
   "source": [
    "# URL of page to be scraped\n",
    "url_3 = 'https://astrogeology.usgs.gov/search/results?q=hemisphere+enhanced&k1=target&v1=Mars'"
   ]
  },
  {
   "cell_type": "code",
   "execution_count": null,
   "metadata": {},
   "outputs": [],
   "source": [
    "driver = webdriver.Firefox()\n",
    "driver.get(url_3)"
   ]
  },
  {
   "cell_type": "code",
   "execution_count": null,
   "metadata": {},
   "outputs": [],
   "source": [
    "body_3 = driver.find_element_by_tag_name(\"body\")\n",
    "body_html_3 = body_3.get_attribute(\"innerHTML\")\n",
    "soup_3 = BS(body_html_3,'html.parser')\n",
    "# print(soup_3.prettify())"
   ]
  },
  {
   "cell_type": "code",
   "execution_count": null,
   "metadata": {},
   "outputs": [],
   "source": [
    "# testing out a specific header to grab\n",
    "# driver.find_elements_by_tag_name('h3')[3].click()"
   ]
  },
  {
   "cell_type": "code",
   "execution_count": null,
   "metadata": {},
   "outputs": [],
   "source": [
    "# loop through all the hemisphere header tags to create dictionary of /n\n",
    "# hemisphere data, iterate through each tag with selenium\n",
    "\n",
    "hemisphere_image_urls = []\n",
    "hemisphere_links = driver.find_elements_by_tag_name('h3')\n",
    "\n",
    "for link in range(len(hemisphere_links)):\n",
    "    hemisphere_data = {}\n",
    "    \n",
    "#     starting point\n",
    "    hemisphere_links = driver.find_elements_by_tag_name('h3')\n",
    "    \n",
    "#     print(hemisphere_links[link].text)   \n",
    "    title = hemisphere_links[link].text\n",
    "    hemisphere_data['title'] = title\n",
    "\n",
    "#     navigate to the h3 tag and get href attribute for the sample image\n",
    "#     append the href url to the dictionary\n",
    "    hemisphere_links[link].click()\n",
    "    sample = driver.find_element_by_link_text('Sample').get_attribute('href')\n",
    "    hemisphere_data['img_url'] = sample\n",
    "\n",
    "#     append the image title and img url to the empty list\n",
    "    hemisphere_image_urls.append(hemisphere_data)\n",
    "    \n",
    "#     return to previous page to iterate through remaining images\n",
    "    driver.back()"
   ]
  },
  {
   "cell_type": "code",
   "execution_count": null,
   "metadata": {},
   "outputs": [],
   "source": [
    "hemisphere_image_urls"
   ]
  },
  {
   "cell_type": "code",
   "execution_count": null,
   "metadata": {},
   "outputs": [],
   "source": [
    "driver.quit()"
   ]
  }
 ],
 "metadata": {
  "kernelspec": {
   "display_name": "Python 3",
   "language": "python",
   "name": "python3"
  },
  "language_info": {
   "codemirror_mode": {
    "name": "ipython",
    "version": 3
   },
   "file_extension": ".py",
   "mimetype": "text/x-python",
   "name": "python",
   "nbconvert_exporter": "python",
   "pygments_lexer": "ipython3",
   "version": "3.7.6"
  }
 },
 "nbformat": 4,
 "nbformat_minor": 4
}
